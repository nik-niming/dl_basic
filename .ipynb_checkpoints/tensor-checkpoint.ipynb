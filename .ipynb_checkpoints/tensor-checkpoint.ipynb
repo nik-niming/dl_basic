{
 "cells": [
  {
   "cell_type": "markdown",
   "metadata": {},
   "source": [
    "# 浅谈什么是张量tensor\n",
    "\n",
    "https://blog.csdn.net/qq_31821675/article/details/79188449\n",
    "\n",
    "也许你已经下载了TensorFlow，而且准备开始着手研究深度学习。但是你会疑惑：TensorFlow里面的Tensor，也就是“张量”，到底是个什么鬼？也许你查阅了维基百科，而且现在变得更加困惑。也许你在NASA教程中看到它，仍然不知道它在说些什么？问题在于大多数讲述张量的指南，都假设你已经掌握他们描述数学的所有术语。\n",
    "\n",
    "别担心！\n",
    "\n",
    "我像小孩子一样讨厌数学，所以如果我能明白，你也可以!我们只需要用简单的措辞来解释这一切。所以，张量(Tensor)是什么，而且为什么会流动(Flow)？\n",
    "\n",
    "让我们先来看看tensor（张量）是什么？\n",
    "\n",
    "张量=容器\n",
    "\n",
    "张量是现代机器学习的基础。它的核心是一个数据容器，多数情况下，它包含数字，有时候它也包含字符串，但这种情况比较少。因此把它想象成一个数字的水桶。\n",
    "\n",
    "张量有多种形式，首先让我们来看最基本的形式，你会在深度学习中偶然遇到，它们在0维到5维之间。我们可以把张量的各种类型看作这样(对被题目中的猫咪吸引进来小伙伴说一句，不要急！猫咪在后面会出现哦！)："
   ]
  },
  {
   "cell_type": "markdown",
   "metadata": {},
   "source": [
    "### 0维张量/标量\n",
    "\n",
    "装在张量/容器水桶中的每个数字称为“标量”。\n",
    "\n",
    "标量是一个数字。\n",
    "\n",
    "你会问为什么不干脆叫它们一个数字呢？\n",
    "\n",
    "我不知道，也许数学家只是喜欢听起来酷？标量听起来确实比数字酷。\n",
    "\n",
    "实际上，你可以使用一个数字的张量，我们称为0维张量，也就是一个只有0维的张量。它仅仅只是带有一个数字的水桶。想象水桶里只有一滴水，那就是一个0维张量。\n",
    "\n",
    "本教程中，我将使用Python，Keras，TensorFlow和Python库Numpy。在Python中，张量通常存储在Numpy数组，Numpy是在大部分的AI框架中，一个使用频率非常高的用于科学计算的数据包。\n",
    "\n",
    "你将在Kaggle（数据科学竞赛网站）上经常看到Jupyter Notebooks（安装见文末阅读链接，“数学烂也要学AI：带你造一个经济试用版AI终极必杀器”）关于把数据转变成Numpy数组。Jupyter notebooks本质上是由工作代码标记嵌入。可以认为它把解释和程序融为一体。\n",
    "\n",
    "我们为什么想把数据转换为Numpy数组？\n",
    "\n",
    "很简单。因为我们需要把所有的输入数据，如字符串文本，图像，股票价格，或者视频，转变为一个统一得标准，以便能够容易的处理。\n",
    "\n",
    "这样我们把数据转变成数字的水桶，我们就能用TensorFlow处理。\n",
    "\n",
    "它仅仅是组织数据成为可用的格式。在网页程序中，你也许通过XML表示，所以你可以定义它们的特征并快速操作。同样，在深度学习中，我们使用张量水桶作为基本的乐高积木。"
   ]
  },
  {
   "cell_type": "code",
   "execution_count": 8,
   "metadata": {},
   "outputs": [
    {
     "data": {
      "text/plain": [
       "0"
      ]
     },
     "execution_count": 8,
     "metadata": {},
     "output_type": "execute_result"
    }
   ],
   "source": [
    "import numpy as np\n",
    "x=np.array(10)\n",
    "x.ndim"
   ]
  },
  {
   "cell_type": "markdown",
   "metadata": {},
   "source": [
    "### 1维张量/向量\n",
    "\n",
    "如果你是名程序员，那么你已经了解，类似于1维张量：数组。\n",
    "\n",
    "每个编程语言都有数组，它只是单列或者单行的一组数据块。在深度学习中称为1维张量。张量是根据一共具有多少坐标轴来定义。1维张量只有一个坐标轴。\n",
    "\n",
    "1维张量称为“向量”。\n",
    "\n",
    "我们可以把向量视为一个单列或者单行的数字。\n",
    "\n",
    "如果想在Numpy得出此结果，按照如下方法：\n",
    "\n",
    "我们可以通过NumPy’s ndim函数，查看张量具有多个坐标轴。我们可以尝试1维张量。"
   ]
  },
  {
   "cell_type": "code",
   "execution_count": 9,
   "metadata": {},
   "outputs": [
    {
     "data": {
      "text/plain": [
       "1"
      ]
     },
     "execution_count": 9,
     "metadata": {},
     "output_type": "execute_result"
    }
   ],
   "source": [
    "x=np.array([1,2,3,4,5,6])\n",
    "x.ndim"
   ]
  },
  {
   "cell_type": "markdown",
   "metadata": {},
   "source": [
    "### 2维张量\n",
    "\n",
    "你可能已经知道了另一种形式的张量，矩阵——2维张量称为矩阵\n",
    "\n",
    "不，这不是基努·里维斯(Keanu Reeves)的电影《黑客帝国》，想象一个excel表格。\n",
    "\n",
    "我们可以把它看作为一个带有行和列的数字网格。\n",
    "\n",
    "这个行和列表示两个坐标轴，一个矩阵是二维张量，意思是有两维，也就是有两个坐标轴的张量。\n",
    "\n",
    "在Numpy中，我们可以如下表示："
   ]
  },
  {
   "cell_type": "code",
   "execution_count": 10,
   "metadata": {},
   "outputs": [
    {
     "data": {
      "text/plain": [
       "2"
      ]
     },
     "execution_count": 10,
     "metadata": {},
     "output_type": "execute_result"
    }
   ],
   "source": [
    "x = np.array([[5,10,15,30,25],\n",
    "              [20,30,65,70,90],\n",
    "              [7,80,95,20,30]])\n",
    "x.ndim"
   ]
  },
  {
   "cell_type": "markdown",
   "metadata": {},
   "source": [
    "我们可以把人的特征存储在一个二维张量。有一个典型的例子是邮件列表。\n",
    "\n",
    "比如我们有10000人，我们有每个人的如下特性和特征：\n",
    "\n",
    "First Name（名）\n",
    "\n",
    "Last Name（姓）\n",
    "\n",
    "Street Address（街道地址）\n",
    "\n",
    "City（城市）\n",
    "\n",
    "State（州/省）\n",
    "\n",
    "Country（国家）\n",
    "\n",
    "Zip（邮政编码）\n",
    "\n",
    "这意味着我们有10000人的七个特征。\n",
    "\n",
    "张量具有“形状”，它的形状是一个水桶，即装着我们的数据也定义了张量的最大尺寸。我们可以把所有人的数据放进二维张量中，它是（10000,7）。\n",
    "\n",
    "你也许想说它有10000列，7行。不。张量能够被转换和操作，从而使列变为行或者行变为列。"
   ]
  },
  {
   "cell_type": "markdown",
   "metadata": {},
   "source": [
    "### 3维张量\n",
    "\n",
    "这时张量真正开始变得有用，我们经常需要把一系列的二维张量存储在水桶中，这就形成了3维张量。\n",
    "\n",
    "在NumPy中，我们可以表示如下："
   ]
  },
  {
   "cell_type": "code",
   "execution_count": 13,
   "metadata": {},
   "outputs": [
    {
     "data": {
      "text/plain": [
       "3"
      ]
     },
     "execution_count": 13,
     "metadata": {},
     "output_type": "execute_result"
    }
   ],
   "source": [
    "x = np.array([\n",
    "    [[5,10,15,30,25],\n",
    "     [20,30,65,70,90],\n",
    "     [7,80,95,20,30]],\n",
    "    [[3,0,5,0,45],\n",
    "     [12,-2,6,7,90],\n",
    "     [18,-9,95,120,30]],\n",
    "    [[17,13,25,30,15],\n",
    "     [23,36,9,7,80],\n",
    "     [1,-7,-5,22,3]]\n",
    "    ])\n",
    "x.ndim"
   ]
  },
  {
   "cell_type": "markdown",
   "metadata": {},
   "source": [
    "你已经猜到，一个三维张量有三个坐标轴，可以这样看到：\n",
    "\n",
    "x.ndim\n",
    "\n",
    "输出为：\n",
    "\n",
    "3\n",
    "\n",
    "你也许已经猜到它，但是一个3维张量是一个数字构成的立方体。\n",
    "\n",
    "我们可以继续堆叠立方体，创建一个越来越大的张量，来编辑不同类型的数据，也就是4维张量，5维张量等等，直到N维张量。N是数学家定义的未知数，它是一直持续到无穷集合里的附加单位。它可以是5,10或者无穷。\n",
    "\n",
    "实际上，3维张量最好视为一层网格，看起来有点像下图：\n",
    "\n",
    "![tensor_01.png](./tensor_01.png \"tensor_01.png\")"
   ]
  },
  {
   "cell_type": "code",
   "execution_count": null,
   "metadata": {
    "collapsed": true
   },
   "outputs": [],
   "source": []
  }
 ],
 "metadata": {
  "kernelspec": {
   "display_name": "Python 3",
   "language": "python",
   "name": "python3"
  },
  "language_info": {
   "codemirror_mode": {
    "name": "ipython",
    "version": 3
   },
   "file_extension": ".py",
   "mimetype": "text/x-python",
   "name": "python",
   "nbconvert_exporter": "python",
   "pygments_lexer": "ipython3",
   "version": "3.6.2"
  }
 },
 "nbformat": 4,
 "nbformat_minor": 2
}
